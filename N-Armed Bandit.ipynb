{
 "cells": [
  {
   "cell_type": "markdown",
   "metadata": {},
   "source": [
    "### Class for generating bandit machines"
   ]
  },
  {
   "cell_type": "code",
   "execution_count": 2,
   "metadata": {
    "collapsed": false
   },
   "outputs": [],
   "source": [
    "import itertools\n",
    "import numpy\n",
    "import matplotlib.pyplot as plt\n",
    "%matplotlib inline"
   ]
  },
  {
   "cell_type": "code",
   "execution_count": 3,
   "metadata": {
    "collapsed": false
   },
   "outputs": [],
   "source": [
    "class Machines:\n",
    "    import itertools\n",
    "    \n",
    "    def __init__(self, rewards, variances):\n",
    "        self.num_of_machines = len(rewards)\n",
    "        self.rewards = rewards\n",
    "        if variances==None:\n",
    "            self.variances = itertools.repeat(1, len(num_of_machines))\n",
    "        else:\n",
    "            self.variances = variances\n",
    "            \n",
    "    def get_machine_count(self):\n",
    "        return(self.num_of_machines)\n",
    "        \n",
    "    def play_machine(self, machine_number):\n",
    "        return(numpy.random.normal(loc=self.rewards[machine_number], scale=(self.variances[machine_number]**0.5)))\n",
    "    \n",
    "    \n",
    "        "
   ]
  },
  {
   "cell_type": "code",
   "execution_count": 4,
   "metadata": {
    "collapsed": false
   },
   "outputs": [],
   "source": [
    "machine_rewards = [1,4,3,2,1,4,5,6,7,8,8,9,5,4,3,2,5,10,50,10,0]\n",
    "machine_variances =  [1,2,3,2,1,3,4,5,6,7,5,3,2,1,1,2,4,0.1,4,3,0.01]\n",
    "\n",
    "twenty_armed_bandit = Machines(machine_rewards,machine_variances)"
   ]
  },
  {
   "cell_type": "code",
   "execution_count": 5,
   "metadata": {
    "collapsed": false
   },
   "outputs": [
    {
     "name": "stdout",
     "output_type": "stream",
     "text": [
      "1.658366773739639\n",
      "4.301880545776739\n",
      "0.015160056182738213\n",
      "3.5796701890410767\n"
     ]
    }
   ],
   "source": [
    "print(twenty_armed_bandit.play_machine(1))\n",
    "print(twenty_armed_bandit.play_machine(1))\n",
    "print(twenty_armed_bandit.play_machine(20))\n",
    "print(twenty_armed_bandit.play_machine(5))"
   ]
  },
  {
   "cell_type": "markdown",
   "metadata": {},
   "source": [
    "### Implement Epsilon-greedy Strategy"
   ]
  },
  {
   "cell_type": "code",
   "execution_count": 6,
   "metadata": {
    "collapsed": false
   },
   "outputs": [],
   "source": [
    "def epsilon_greedy_play(bandit,n,epsilon,rolling_sum=False):\n",
    "    games_played = 0\n",
    "    total_reward = [0]\n",
    "    best_machine = 1\n",
    "    while games_played < n:\n",
    "        ### Setting up machines\n",
    "        machines = list(range(0,bandit.get_machine_count()))\n",
    "        machines.remove(best_machine) if best_machine in machines else print()\n",
    "        machines = [-1] + machines\n",
    "        prob_of_new_machine = (epsilon)/(len(machines)-1)\n",
    "\n",
    "        ## Choosing best machine with prob epsilon, other machines with prob 1-epsilon\n",
    "        machine_chosen = numpy.random.choice(a=machines, p=[1-epsilon] + [prob_of_new_machine]*(len(machines)-1))\n",
    "        #print((best_machine,machine_chosen))\n",
    "\n",
    "        ## If the machine chosen was the best one\n",
    "        if machine_chosen==-1:\n",
    "            r = total_reward.append(bandit.play_machine(best_machine))\n",
    "\n",
    "        ## If we explored a new machine\n",
    "        else:\n",
    "            r = (bandit.play_machine(machine_chosen))\n",
    "            if r>max(total_reward):\n",
    "                best_machine = machine_chosen\n",
    "            total_reward.append(r)\n",
    "        games_played +=1\n",
    "    if rolling_sum:\n",
    "        return(numpy.cumsum(total_reward)) \n",
    "    else:\n",
    "        return(sum(total_reward))"
   ]
  },
  {
   "cell_type": "code",
   "execution_count": 7,
   "metadata": {
    "collapsed": false
   },
   "outputs": [
    {
     "data": {
      "image/png": "[encoded data removed]",
      "text/plain": [
       "<matplotlib.figure.Figure at 0x10edcdeb8>"
      ]
     },
     "metadata": {},
     "output_type": "display_data"
    }
   ],
   "source": [
    "\n",
    "x = list(range(0,101))\n",
    "y0 = epsilon_greedy_play(bandit=twenty_armed_bandit, n=100, epsilon=0.25, rolling_sum=True)\n",
    "y1 = epsilon_greedy_play(bandit=twenty_armed_bandit, n=100, epsilon=0.5, rolling_sum=True)\n",
    "y2 = epsilon_greedy_play(bandit=twenty_armed_bandit, n=100, epsilon=0.75, rolling_sum=True)\n",
    "y3 = epsilon_greedy_play(bandit=twenty_armed_bandit, n=100, epsilon=1, rolling_sum=True)\n",
    "\n",
    "\n",
    "\n",
    "#ax1 = plt.subplot() # creates first axis ax1.plot(x, y1, 'k-')\n",
    "#plt.title(\"20-armed bandit, Epsilon=0.2,0.5,0.9\")\n",
    "#plt.xlabel(\"Time\")\n",
    "#plt.ylabel(\"Reward\")\n",
    "\n",
    "\n",
    "fig = plt.figure()\n",
    "\n",
    "ax0 = fig.add_subplot(221)\n",
    "ax0.set_title(\"Epsilon=0.25, \" + \"R=\" + str(numpy.round(y0[-1],2)))\n",
    "ax0.plot(x,y1)\n",
    "\n",
    "ax1 = fig.add_subplot(222)\n",
    "ax1.set_title(\"Epsilon=0.5, \" + \"R=\" + str(numpy.round(y1[-1],2)))\n",
    "ax1.plot(x,y1)\n",
    "\n",
    "ax2 = fig.add_subplot(223)\n",
    "ax2.set_title(\"Epsilon=0.75, \" + \"R=\" + str(numpy.round(y2[-1],2)))\n",
    "ax2.plot(x,y2)\n",
    "\n",
    "ax3 = fig.add_subplot(224)\n",
    "ax3.set_title(\"Epsilon=1, \" + \"R=\" + str(numpy.round(y3[-1],2)))\n",
    "ax3.plot(x,y3)\n",
    "\n",
    "plt.tight_layout()\n"
   ]
  },
  {
   "cell_type": "code",
   "execution_count": null,
   "metadata": {
    "collapsed": true
   },
   "outputs": [],
   "source": []
  }
 ],
 "metadata": {
  "kernelspec": {
   "display_name": "Python 3",
   "language": "python",
   "name": "python3"
  },
  "language_info": {
   "codemirror_mode": {
    "name": "ipython",
    "version": 3
   },
   "file_extension": ".py",
   "mimetype": "text/x-python",
   "name": "python",
   "nbconvert_exporter": "python",
   "pygments_lexer": "ipython3",
   "version": "3.6.0"
  }
 },
 "nbformat": 4,
 "nbformat_minor": 2
}
